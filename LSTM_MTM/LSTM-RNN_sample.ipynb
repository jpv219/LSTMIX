{
 "cells": [
  {
   "cell_type": "code",
   "execution_count": null,
   "id": "eae55aca",
   "metadata": {},
   "outputs": [],
   "source": [
    "import numpy as np\n",
    "import pandas as pd\n",
    "import seaborn as sns\n",
    "import matplotlib.pyplot as plt\n",
    "import Clean_CSV"
   ]
  },
  {
   "cell_type": "code",
   "execution_count": null,
   "id": "0e0e7663",
   "metadata": {},
   "outputs": [],
   "source": [
    "import os\n",
    "from torch import nn\n",
    "import torch.utils.data as data\n",
    "from torchvision import datasets, transforms\n",
    "import torch.optim as optim\n",
    "import torch"
   ]
  },
  {
   "cell_type": "code",
   "execution_count": null,
   "id": "668ef2a8",
   "metadata": {},
   "outputs": [],
   "source": [
    "\n",
    "cases_list = ['b03','b06','b09','bi001','bi01','bi1','da001','da01','da1']\n",
    "\n",
    "cases_listmulti = ['b06pm','b09pm','bi001pm','bi01pm','da01pm']"
   ]
  },
  {
   "attachments": {},
   "cell_type": "markdown",
   "id": "51bfd0c4",
   "metadata": {},
   "source": [
    "# Loading, Cleaning Volume-Gamma-Nd dataframes"
   ]
  },
  {
   "cell_type": "code",
   "execution_count": null,
   "id": "56a4d569",
   "metadata": {},
   "outputs": [],
   "source": [
    "## Volume-Gamma data for 3-drop cases\n",
    "\n",
    "csv_file = ['RawData/' + elem + '_GVol.csv' for elem in cases_list]\n",
    "csv_names = [elem + '_csv' for elem in cases_list]\n",
    "\n",
    "for csv, name in zip(csv_file,csv_names):\n",
    "    exec(f\"{name} = pd.read_csv('{csv}')\")\n",
    "    print('dataframe loaded:' + f\"'{name}'\")"
   ]
  },
  {
   "cell_type": "code",
   "execution_count": null,
   "id": "95e3d486",
   "metadata": {},
   "outputs": [],
   "source": [
    "## Volume-Gamma data for multi-drop cases\n",
    "\n",
    "csv_filemulti = ['RawData/' + elem + '_GVol.csv' for elem in cases_listmulti]\n",
    "csv_names_multi = [elem + '_csv' for elem in cases_listmulti]\n",
    "\n",
    "for csv, name in zip(csv_filemulti,csv_names_multi):\n",
    "    exec(f\"{name} = pd.read_csv('{csv}')\")\n",
    "    print('dataframe loaded:' + f\"'{name}'\")\n"
   ]
  },
  {
   "cell_type": "code",
   "execution_count": null,
   "id": "3388ed5c",
   "metadata": {
    "scrolled": false
   },
   "outputs": [],
   "source": [
    "## Dataframe cleanup\n",
    "\n",
    "df_namescl = ['df_' + elem for elem in cases_list]\n",
    "\n",
    "df_namescl_multi = ['df_' + elem for elem in cases_listmulti]\n",
    "\n",
    "for dfname,csvname in zip(df_namescl,csv_names):\n",
    "    exec(f\"{dfname} = Clean_CSV.clean_csv({csvname},list({csvname}.columns.values)[1:3])\")\n",
    "    print('dataframe cleaned:' + f\"'{dfname}'\")\n",
    "    \n",
    "for dfname,csvname in zip(df_namescl_multi,csv_names_multi):\n",
    "    exec(f\"{dfname} = Clean_CSV.clean_csv({csvname},list({csvname}.columns.values)[1:3])\")\n",
    "    print('dataframe cleaned:' + f\"'{dfname}'\")\n",
    "\n"
   ]
  },
  {
   "cell_type": "code",
   "execution_count": null,
   "id": "2ecec297",
   "metadata": {},
   "outputs": [],
   "source": [
    "## Number of drops data for 3-drop\n",
    "\n",
    "Nd_names = ['Nd_' + elem for elem in csv_names]\n",
    "Nd_csv_file = ['RawData/Nd/' + elem + '_dnum_corr.csv' for elem in cases_list]\n",
    "\n",
    "\n",
    "for Nd,csv in zip(Nd_names,Nd_csv_file):\n",
    "    df = pd.read_csv(csv)\n",
    "    label_list = list(df.columns.values)\n",
    "    df.rename(columns={label_list[0]: 'Ndrops'}, inplace=True)\n",
    "    df['Time'] = df.apply(lambda row: row.name*0.005,axis=1)\n",
    "    df = df[['Time','Ndrops']]\n",
    "    exec(f\"{Nd} = df\")\n",
    "    print('file loaded:' + f\"'{Nd}'\")\n"
   ]
  },
  {
   "cell_type": "code",
   "execution_count": null,
   "id": "978cc6fd",
   "metadata": {},
   "outputs": [],
   "source": [
    "## Number of drops data for multi-drop\n",
    "\n",
    "Nd_names_multi = ['Nd_' + elem for elem in csv_names_multi]\n",
    "Nd_csv_file_multi = ['RawData/Nd/' + elem + '_dnum_corr.csv' for elem in cases_listmulti]\n",
    "\n",
    "\n",
    "for Nd,csv in zip(Nd_names_multi,Nd_csv_file_multi):\n",
    "    df = pd.read_csv(csv)\n",
    "    label_list = list(df.columns.values)\n",
    "    df.rename(columns={label_list[0]: 'Ndrops'}, inplace=True)\n",
    "    df['Time'] = df.apply(lambda row: row.name*0.005,axis=1)\n",
    "    df = df[['Time','Ndrops']]\n",
    "    exec(f\"{Nd} = df\")\n",
    "    print('file loaded:' + f\"'{Nd}'\")\n"
   ]
  },
  {
   "cell_type": "code",
   "execution_count": null,
   "id": "f17641d7",
   "metadata": {},
   "outputs": [],
   "source": [
    "Nd_b03_csv"
   ]
  },
  {
   "attachments": {},
   "cell_type": "markdown",
   "id": "077bc92d",
   "metadata": {},
   "source": [
    "# RNN-LSTM with PyTorch\n",
    "## Training and testing number of drops for a single case"
   ]
  },
  {
   "cell_type": "code",
   "execution_count": null,
   "id": "4a94ed0c",
   "metadata": {
    "scrolled": true
   },
   "outputs": [],
   "source": [
    "timeseries = Nd_b03_csv[['Ndrops']].values.astype('float32')\n",
    "plt.plot(timeseries)\n",
    "plt.show()"
   ]
  },
  {
   "cell_type": "code",
   "execution_count": null,
   "id": "30cb1f90",
   "metadata": {},
   "outputs": [],
   "source": [
    "# OPTIONAL detrending and normalizing the linear trend\n",
    "from sklearn.linear_model import LinearRegression\n",
    "from sklearn.preprocessing import PolynomialFeatures\n",
    "\n",
    "X = np.arange(len(timeseries)).reshape(-1, 1)\n",
    "y = timeseries.reshape(-1, 1).astype('float32')\n",
    "\n",
    "degree = 6\n",
    "poly_features = PolynomialFeatures(degree=degree)\n",
    "x_poly = poly_features.fit_transform(X.reshape(-1,1))\n",
    "\n",
    "model = LinearRegression()\n",
    "model.fit(x_poly, y)\n",
    "\n",
    "trend = model.predict(x_poly).astype('float32')\n",
    "\n",
    "detrended = y - trend.reshape(-1,1)\n",
    "\n",
    "min_val = np.min(detrended)\n",
    "max_val = np.max(detrended)\n",
    "\n",
    "detrended = (detrended - min_val) / (max_val - min_val)"
   ]
  },
  {
   "cell_type": "code",
   "execution_count": null,
   "id": "814bf85e",
   "metadata": {},
   "outputs": [],
   "source": [
    "plt.plot(trend)\n",
    "plt.plot(y)\n",
    "plt.show()"
   ]
  },
  {
   "cell_type": "code",
   "execution_count": null,
   "id": "68e2dd1f",
   "metadata": {},
   "outputs": [],
   "source": [
    "plt.plot(detrended)\n",
    "plt.show()"
   ]
  },
  {
   "cell_type": "code",
   "execution_count": null,
   "id": "2cda631a",
   "metadata": {},
   "outputs": [],
   "source": [
    "# train-test split for time series\n",
    "train_size = int(len(detrended) * 0.7)\n",
    "test_size = len(detrended) - train_size\n",
    "train, test = detrended[:train_size], detrended[train_size:]"
   ]
  },
  {
   "cell_type": "code",
   "execution_count": null,
   "id": "a78e4065",
   "metadata": {},
   "outputs": [],
   "source": [
    "''' Transform the time series into a prediction \n",
    "dataset based on a given window. \n",
    "Args:\n",
    "        dataset: A numpy array of time series, first dimension is the time steps\n",
    "        lookback: Size of window for prediction\n",
    "'''\n",
    "def create_dataset(dataset,lookback):\n",
    "    X,y = [],[]\n",
    "    for i in range(len(dataset)-lookback):\n",
    "        feature = dataset[i:i+lookback]\n",
    "        target = dataset[i+1:i+lookback+1]\n",
    "        X.append(feature)\n",
    "        y.append(target)\n",
    "    return torch.tensor(X), torch.tensor(y)\n"
   ]
  },
  {
   "cell_type": "code",
   "execution_count": null,
   "id": "e78817ad",
   "metadata": {},
   "outputs": [],
   "source": [
    "lookback = 10\n",
    "X_train, y_train = create_dataset(train,lookback)\n",
    "X_test, y_test = create_dataset(test,lookback)\n",
    "print(X_train.shape, y_train.shape)\n",
    "print(X_test.shape, y_test.shape)"
   ]
  },
  {
   "cell_type": "markdown",
   "id": "c014fa59",
   "metadata": {},
   "source": [
    "### LSTM Model class creation"
   ]
  },
  {
   "cell_type": "code",
   "execution_count": null,
   "id": "4871ac86",
   "metadata": {},
   "outputs": [],
   "source": [
    "# Defining Hyperparameters\n",
    "input_size = 1\n",
    "hidden_size = 50\n",
    "num_layers = 1\n",
    "output_size = 1\n",
    "num_epochs = 2000\n",
    "learning_rate = 0.01"
   ]
  },
  {
   "cell_type": "code",
   "execution_count": null,
   "id": "de886ce0",
   "metadata": {},
   "outputs": [],
   "source": [
    "class LSTMModel(nn.Module):\n",
    "    def __init__(self,input_size, hidden_size, output_size, num_layers):\n",
    "        super(LSTMModel,self).__init__()\n",
    "        self.hidden_size = hidden_size\n",
    "        self.num_layers = num_layers\n",
    "        self.lstm = nn.LSTM(input_size,hidden_size, num_layers, batch_first=True)\n",
    "        self.output_layer = nn.Linear(hidden_size, output_size)\n",
    "    def forward(self,x):\n",
    "        out, _ = self.lstm(x)\n",
    "        out = self.output_layer(out)\n",
    "        return out"
   ]
  },
  {
   "cell_type": "markdown",
   "id": "3776a07e",
   "metadata": {},
   "source": [
    "### Training LSTM with detrended/detrended data"
   ]
  },
  {
   "cell_type": "code",
   "execution_count": null,
   "id": "8c2480ec",
   "metadata": {},
   "outputs": [],
   "source": [
    "# Instance of the LSTM model\n",
    "model = LSTMModel(input_size, hidden_size, output_size, num_layers)\n",
    "\n",
    "# Setting loss function and optimizer\n",
    "loss_func = nn.MSELoss()\n",
    "optimizer = optim.Adam(model.parameters(), lr=learning_rate)\n",
    "loader = data.DataLoader(data.TensorDataset(X_train, y_train), shuffle = True, batch_size=8)\n",
    "\n",
    "for epoch in range(num_epochs):\n",
    "    model.train()\n",
    "    for X_batch, y_batch in loader:\n",
    "            y_pred = model(X_batch)\n",
    "            loss = loss_func(y_pred, y_batch)\n",
    "            optimizer.zero_grad()\n",
    "            loss.backward()\n",
    "            optimizer.step()\n",
    "\n",
    "    if epoch % 100 != 0:\n",
    "            continue\n",
    "    model.eval()\n",
    "\n",
    "    with torch.no_grad():\n",
    "           y_pred = model(X_train)\n",
    "           train_rmse = np.sqrt(loss_func(y_pred, y_train))\n",
    "           y_pred = model(X_test)\n",
    "           test_rmse = np.sqrt(loss_func(y_pred, y_test))\n",
    "           \n",
    "    print(\"Epoch %d: train RMSE %.4f, test RMSE %.4f\" % (epoch, train_rmse, test_rmse))\n"
   ]
  },
  {
   "cell_type": "code",
   "execution_count": null,
   "id": "a10a7f72",
   "metadata": {},
   "outputs": [],
   "source": [
    "with torch.no_grad():\n",
    "    # shift train predictions for plotting\n",
    "    train_plot = np.ones_like(detrended) * np.nan\n",
    "    y_pred = model(X_train)\n",
    "    y_pred = y_pred[:, -1, :]\n",
    "    train_plot[lookback:train_size] = model(X_train)[:, -1, :]\n",
    "    # shift test predictions for plotting\n",
    "    test_plot = np.ones_like(detrended) * np.nan\n",
    "    test_plot[train_size+lookback:len(detrended)] = model(X_test)[:, -1, :]\n",
    "# plot\n",
    "plt.plot(detrended, c='b')\n",
    "plt.plot(train_plot, c='r')\n",
    "plt.plot(test_plot, c='g')\n",
    "plt.show()"
   ]
  }
 ],
 "metadata": {
  "kernelspec": {
   "display_name": "Python 3 (ipykernel)",
   "language": "python",
   "name": "python3"
  },
  "language_info": {
   "codemirror_mode": {
    "name": "ipython",
    "version": 3
   },
   "file_extension": ".py",
   "mimetype": "text/x-python",
   "name": "python",
   "nbconvert_exporter": "python",
   "pygments_lexer": "ipython3",
   "version": "3.9.16"
  }
 },
 "nbformat": 4,
 "nbformat_minor": 5
}
