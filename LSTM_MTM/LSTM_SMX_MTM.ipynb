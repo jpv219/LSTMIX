{
 "cells": [
  {
   "cell_type": "code",
   "execution_count": null,
   "metadata": {},
   "outputs": [],
   "source": [
    "### LSTM-RNN MTM model to predict temporal evolution of: Number of drops (Nd), Interfacial Area (IA), and size distribution (DSD)\n",
    "### Code adapted for L-L SMX static mixer\n",
    "### Author: Juan Pablo Valdes\n",
    "### First commit: Aug, 2023\n",
    "### Code adapted from: LSTM_MTM by Fuyue Liang, 2023 for stirred vessels\n",
    "### Department of Chemical Engineering, Imperial College London"
   ]
  },
  {
   "cell_type": "markdown",
   "metadata": {},
   "source": [
    "# **LSTM Many to Many model for SMX**"
   ]
  },
  {
   "cell_type": "code",
   "execution_count": 1,
   "metadata": {},
   "outputs": [],
   "source": [
    "##All imports\n",
    "import numpy as np\n",
    "import pandas as pd\n",
    "import Load_Clean_DF"
   ]
  },
  {
   "cell_type": "markdown",
   "metadata": {},
   "source": [
    "### *Loading and cleaning up raw data*"
   ]
  },
  {
   "cell_type": "code",
   "execution_count": 12,
   "metadata": {},
   "outputs": [],
   "source": [
    "cases_3D = ['b03','b06','b09','bi001','bi01','bi1','da001','da01','da1']\n",
    "\n",
    "cases_MD = ['b06pm','b09pm','bi001pm','bi01pm','da01pm']\n",
    "\n",
    "cases_clean = ['3drop', 'coarsepm']\n",
    "\n",
    "Allcases = cases_3D + cases_MD + cases_clean"
   ]
  },
  {
   "cell_type": "markdown",
   "metadata": {},
   "source": [
    "<small>Importing rawdata from pre-processed csv files into dataframes</small>"
   ]
  },
  {
   "cell_type": "code",
   "execution_count": 13,
   "metadata": {},
   "outputs": [],
   "source": [
    "def import_rawdata(case):\n",
    "\n",
    "    if case == '3drop' or case == 'coarsepm':\n",
    "        df_Vol = Load_Clean_DF.extract_Vol(case)\n",
    "    else:\n",
    "        df_Vol = Load_Clean_DF.extract_GVol(case)\n",
    "    \n",
    "    Nd = Load_Clean_DF.extract_Nd(case)\n",
    "    IntA = Load_Clean_DF.extract_IA(case)\n",
    "\n",
    "    return df_Vol, Nd, IntA"
   ]
  },
  {
   "cell_type": "markdown",
   "metadata": {},
   "source": [
    "<small>Storing all data into a single dictionary to be used later by the LSTM</small>"
   ]
  },
  {
   "cell_type": "code",
   "execution_count": 15,
   "metadata": {},
   "outputs": [],
   "source": [
    "mydata = {}\n",
    "\n",
    "for case in Allcases:\n",
    "    df_Vol, Nd, IntA = import_rawdata(case)\n",
    "    time = Nd['Time']\n",
    "    n_drops = Nd['Ndrops']\n",
    "    IA = IntA['IA']\n",
    "    DSD = df_Vol['Volume']\n",
    "    if case == '3drop' or case == 'coarsepm':\n",
    "        G = []\n",
    "    else:\n",
    "        G = df_Vol['Gammatilde']\n",
    "    ## Create the cases dictionary with all data needed\n",
    "    mydata[case] = {'Time': time, 'Nd': n_drops, 'IA': IA ,'Vol':DSD, 'G': G}\n"
   ]
  },
  {
   "cell_type": "code",
   "execution_count": null,
   "metadata": {},
   "outputs": [],
   "source": [
    "\n"
   ]
  },
  {
   "cell_type": "code",
   "execution_count": null,
   "metadata": {},
   "outputs": [],
   "source": []
  }
 ],
 "metadata": {
  "kernelspec": {
   "display_name": "torch",
   "language": "python",
   "name": "python3"
  },
  "language_info": {
   "codemirror_mode": {
    "name": "ipython",
    "version": 3
   },
   "file_extension": ".py",
   "mimetype": "text/x-python",
   "name": "python",
   "nbconvert_exporter": "python",
   "pygments_lexer": "ipython3",
   "version": "3.9.16"
  },
  "orig_nbformat": 4
 },
 "nbformat": 4,
 "nbformat_minor": 2
}
