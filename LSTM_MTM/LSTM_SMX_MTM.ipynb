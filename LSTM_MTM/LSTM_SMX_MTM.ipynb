{
 "cells": [
  {
   "cell_type": "code",
   "execution_count": null,
   "metadata": {},
   "outputs": [],
   "source": [
    "### LSTM-RNN MTM model to predict temporal evolution of: Number of drops (Nd), Interfacial Area (IA), and size distribution (DSD)\n",
    "### Code adapted for L-L SMX static mixer\n",
    "### Author: Juan Pablo Valdes\n",
    "### First commit: Aug, 2023\n",
    "### Code adapted from: LSTM_MTM by Fuyue Liang, 2023 for stirred vessels\n",
    "### Department of Chemical Engineering, Imperial College London"
   ]
  },
  {
   "cell_type": "markdown",
   "metadata": {},
   "source": [
    "# **LSTM Many to Many model for SMX**"
   ]
  },
  {
   "cell_type": "code",
   "execution_count": 2,
   "metadata": {},
   "outputs": [],
   "source": [
    "##All imports\n",
    "import numpy as np\n",
    "import pandas as pd\n",
    "import Load_Clean_DF"
   ]
  },
  {
   "cell_type": "markdown",
   "metadata": {},
   "source": [
    "### *Loading and cleaning up raw data*"
   ]
  },
  {
   "cell_type": "code",
   "execution_count": 1,
   "metadata": {},
   "outputs": [],
   "source": [
    "cases_3D = ['b03','b06','b09','bi001','bi01','bi1','da001','da01','da1']\n",
    "\n",
    "cases_MD = ['b06pm','b09pm','bi001pm','bi01pm','da01pm']\n",
    "\n",
    "cases_clean = ['3drop', 'coarsepm']"
   ]
  },
  {
   "cell_type": "markdown",
   "metadata": {},
   "source": [
    "<small>Importing rawdata from pre-processed csv files into dataframes</small>"
   ]
  },
  {
   "cell_type": "code",
   "execution_count": 3,
   "metadata": {},
   "outputs": [],
   "source": [
    "def import_rawdata(case):\n",
    "\n",
    "    if case == '3_drop' or case == 'coarse_pm':\n",
    "        df_Vol = Load_Clean_DF.extract_Vol(case)\n",
    "    else:\n",
    "        df_Vol = Load_Clean_DF.extract_GVol(case)\n",
    "    \n",
    "    Nd = Load_Clean_DF.extract_Nd(case)\n",
    "    IA = Load_Clean_DF.extract_IA(case)\n",
    "\n",
    "    return df_Vol, Nd, IA"
   ]
  },
  {
   "cell_type": "code",
   "execution_count": 4,
   "metadata": {},
   "outputs": [],
   "source": [
    "df, Nd, IA = import_rawdata('b03')"
   ]
  },
  {
   "cell_type": "code",
   "execution_count": 5,
   "metadata": {},
   "outputs": [
    {
     "data": {
      "text/html": [
       "<div>\n",
       "<style scoped>\n",
       "    .dataframe tbody tr th:only-of-type {\n",
       "        vertical-align: middle;\n",
       "    }\n",
       "\n",
       "    .dataframe tbody tr th {\n",
       "        vertical-align: top;\n",
       "    }\n",
       "\n",
       "    .dataframe thead th {\n",
       "        text-align: right;\n",
       "    }\n",
       "</style>\n",
       "<table border=\"1\" class=\"dataframe\">\n",
       "  <thead>\n",
       "    <tr style=\"text-align: right;\">\n",
       "      <th></th>\n",
       "      <th>Time</th>\n",
       "      <th>Volume</th>\n",
       "      <th>Gammatilde</th>\n",
       "    </tr>\n",
       "  </thead>\n",
       "  <tbody>\n",
       "    <tr>\n",
       "      <th>0</th>\n",
       "      <td>0.000</td>\n",
       "      <td>[2.38493124e-09, 2.38488547e-09, 2.38493135e-09]</td>\n",
       "      <td>[0.90000003, 0.90000003, 0.90000003]</td>\n",
       "    </tr>\n",
       "    <tr>\n",
       "      <th>1</th>\n",
       "      <td>0.005</td>\n",
       "      <td>[2.38462207e-09, 2.38458678e-09, 2.38471927e-09]</td>\n",
       "      <td>[0.89902525, 0.8988565, 0.89756864]</td>\n",
       "    </tr>\n",
       "    <tr>\n",
       "      <th>2</th>\n",
       "      <td>0.010</td>\n",
       "      <td>[2.09579405e-09, 1.78866416e-09, 2.3845843e-09]</td>\n",
       "      <td>[0.89639528, 0.89687499, 0.88445743]</td>\n",
       "    </tr>\n",
       "    <tr>\n",
       "      <th>3</th>\n",
       "      <td>0.015</td>\n",
       "      <td>[2.38426445e-09, 2.38431061e-09, 2.38429042e-09]</td>\n",
       "      <td>[0.89459094, 0.89329817, 0.85646322]</td>\n",
       "    </tr>\n",
       "    <tr>\n",
       "      <th>4</th>\n",
       "      <td>0.020</td>\n",
       "      <td>[2.38376015e-09, 2.38380051e-09, 2.38392257e-09]</td>\n",
       "      <td>[0.89307067, 0.81376083, 0.8879631]</td>\n",
       "    </tr>\n",
       "    <tr>\n",
       "      <th>...</th>\n",
       "      <td>...</td>\n",
       "      <td>...</td>\n",
       "      <td>...</td>\n",
       "    </tr>\n",
       "    <tr>\n",
       "      <th>116</th>\n",
       "      <td>0.580</td>\n",
       "      <td>[2.52117095e-11, 1.1654139e-13, 2.21843423e-10...</td>\n",
       "      <td>[0.0420857, 0.06023026, 0.0407158, 0.02911765,...</td>\n",
       "    </tr>\n",
       "    <tr>\n",
       "      <th>117</th>\n",
       "      <td>0.585</td>\n",
       "      <td>[2.29090137e-11, 1.17070935e-13, 2.21978629e-1...</td>\n",
       "      <td>[0.04133184, 0.05900013, 0.04046373, 0.0273815...</td>\n",
       "    </tr>\n",
       "    <tr>\n",
       "      <th>118</th>\n",
       "      <td>0.590</td>\n",
       "      <td>[2.10333697e-11, 1.18118983e-13, 2.21470655e-1...</td>\n",
       "      <td>[0.04067889, 0.05776941, 0.04042131, 0.0276932...</td>\n",
       "    </tr>\n",
       "    <tr>\n",
       "      <th>119</th>\n",
       "      <td>0.595</td>\n",
       "      <td>[1.97430954e-11, 1.19113664e-13, 2.2166183e-10...</td>\n",
       "      <td>[0.03972243, 0.05654595, 0.04045161, 0.0287431...</td>\n",
       "    </tr>\n",
       "    <tr>\n",
       "      <th>120</th>\n",
       "      <td>0.600</td>\n",
       "      <td>[1.94235957e-11, 1.78965884e-13, 1.31712867e-1...</td>\n",
       "      <td>[0.03858991, 0.05546325, 0.02910985, 0.0231457...</td>\n",
       "    </tr>\n",
       "  </tbody>\n",
       "</table>\n",
       "<p>121 rows × 3 columns</p>\n",
       "</div>"
      ],
      "text/plain": [
       "      Time                                             Volume   \n",
       "0    0.000   [2.38493124e-09, 2.38488547e-09, 2.38493135e-09]  \\\n",
       "1    0.005   [2.38462207e-09, 2.38458678e-09, 2.38471927e-09]   \n",
       "2    0.010    [2.09579405e-09, 1.78866416e-09, 2.3845843e-09]   \n",
       "3    0.015   [2.38426445e-09, 2.38431061e-09, 2.38429042e-09]   \n",
       "4    0.020   [2.38376015e-09, 2.38380051e-09, 2.38392257e-09]   \n",
       "..     ...                                                ...   \n",
       "116  0.580  [2.52117095e-11, 1.1654139e-13, 2.21843423e-10...   \n",
       "117  0.585  [2.29090137e-11, 1.17070935e-13, 2.21978629e-1...   \n",
       "118  0.590  [2.10333697e-11, 1.18118983e-13, 2.21470655e-1...   \n",
       "119  0.595  [1.97430954e-11, 1.19113664e-13, 2.2166183e-10...   \n",
       "120  0.600  [1.94235957e-11, 1.78965884e-13, 1.31712867e-1...   \n",
       "\n",
       "                                            Gammatilde  \n",
       "0                 [0.90000003, 0.90000003, 0.90000003]  \n",
       "1                  [0.89902525, 0.8988565, 0.89756864]  \n",
       "2                 [0.89639528, 0.89687499, 0.88445743]  \n",
       "3                 [0.89459094, 0.89329817, 0.85646322]  \n",
       "4                  [0.89307067, 0.81376083, 0.8879631]  \n",
       "..                                                 ...  \n",
       "116  [0.0420857, 0.06023026, 0.0407158, 0.02911765,...  \n",
       "117  [0.04133184, 0.05900013, 0.04046373, 0.0273815...  \n",
       "118  [0.04067889, 0.05776941, 0.04042131, 0.0276932...  \n",
       "119  [0.03972243, 0.05654595, 0.04045161, 0.0287431...  \n",
       "120  [0.03858991, 0.05546325, 0.02910985, 0.0231457...  \n",
       "\n",
       "[121 rows x 3 columns]"
      ]
     },
     "execution_count": 5,
     "metadata": {},
     "output_type": "execute_result"
    }
   ],
   "source": [
    "df"
   ]
  },
  {
   "cell_type": "code",
   "execution_count": null,
   "metadata": {},
   "outputs": [],
   "source": []
  }
 ],
 "metadata": {
  "kernelspec": {
   "display_name": "torch",
   "language": "python",
   "name": "python3"
  },
  "language_info": {
   "codemirror_mode": {
    "name": "ipython",
    "version": 3
   },
   "file_extension": ".py",
   "mimetype": "text/x-python",
   "name": "python",
   "nbconvert_exporter": "python",
   "pygments_lexer": "ipython3",
   "version": "3.9.16"
  },
  "orig_nbformat": 4
 },
 "nbformat": 4,
 "nbformat_minor": 2
}
